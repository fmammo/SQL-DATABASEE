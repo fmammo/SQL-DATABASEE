{
 "cells": [
  {
   "cell_type": "markdown",
   "metadata": {},
   "source": [
    "#### Import necessary Libraries"
   ]
  },
  {
   "cell_type": "code",
   "execution_count": 2,
   "metadata": {},
   "outputs": [],
   "source": [
    "import pandas as pd\n",
    "import numpy as np\n",
    "import matplotlib.pyplot as plt\n",
    "import seaborn as sns\n",
    "%matplotlib inline"
   ]
  },
  {
   "cell_type": "code",
   "execution_count": 3,
   "metadata": {},
   "outputs": [],
   "source": [
    "# Load the dataset\n",
    "sales = pd.read_csv(\"sales.csv\")\n",
    "customer = pd.read_csv(\"customer.csv\")\n",
    "branch = pd.read_csv(\"branch.csv\")"
   ]
  },
  {
   "cell_type": "code",
   "execution_count": 4,
   "metadata": {},
   "outputs": [],
   "source": [
    "# First lets concatenate the tables\n",
    "sales_table = pd.concat([sales,customer,branch], axis = 1)\n",
    "# Let's drop the \"Unknown\" columns\n",
    "total_sales = sales_table.drop(['Unnamed: 0', 'Unnamed: 0', 'Unnamed: 0'], axis = 1)"
   ]
  },
  {
   "cell_type": "code",
   "execution_count": 46,
   "metadata": {},
   "outputs": [
    {
     "data": {
      "text/html": [
       "<div>\n",
       "<style scoped>\n",
       "    .dataframe tbody tr th:only-of-type {\n",
       "        vertical-align: middle;\n",
       "    }\n",
       "\n",
       "    .dataframe tbody tr th {\n",
       "        vertical-align: top;\n",
       "    }\n",
       "\n",
       "    .dataframe thead th {\n",
       "        text-align: right;\n",
       "    }\n",
       "</style>\n",
       "<table border=\"1\" class=\"dataframe\">\n",
       "  <thead>\n",
       "    <tr style=\"text-align: right;\">\n",
       "      <th></th>\n",
       "      <th>invoice_id</th>\n",
       "      <th>gross_income</th>\n",
       "      <th>gross_margin_pct</th>\n",
       "      <th>cogs</th>\n",
       "      <th>payment</th>\n",
       "      <th>time</th>\n",
       "      <th>date</th>\n",
       "      <th>total</th>\n",
       "      <th>tax_pct</th>\n",
       "      <th>quantity</th>\n",
       "      <th>unit_price</th>\n",
       "      <th>product_line</th>\n",
       "      <th>gender</th>\n",
       "      <th>customer_type</th>\n",
       "      <th>rating</th>\n",
       "      <th>invoice_id</th>\n",
       "      <th>branch</th>\n",
       "      <th>city</th>\n",
       "    </tr>\n",
       "  </thead>\n",
       "  <tbody>\n",
       "    <tr>\n",
       "      <th>0</th>\n",
       "      <td>750-67-8428</td>\n",
       "      <td>26.1415</td>\n",
       "      <td>4.761905</td>\n",
       "      <td>522.83</td>\n",
       "      <td>Ewallet</td>\n",
       "      <td>13:08</td>\n",
       "      <td>1/5/2019</td>\n",
       "      <td>548.9715</td>\n",
       "      <td>26.1415</td>\n",
       "      <td>7</td>\n",
       "      <td>74.69</td>\n",
       "      <td>Health and beauty</td>\n",
       "      <td>Female</td>\n",
       "      <td>Member</td>\n",
       "      <td>9.1</td>\n",
       "      <td>750-67-8428</td>\n",
       "      <td>A</td>\n",
       "      <td>Yangon</td>\n",
       "    </tr>\n",
       "    <tr>\n",
       "      <th>1</th>\n",
       "      <td>226-31-3081</td>\n",
       "      <td>3.8200</td>\n",
       "      <td>4.761905</td>\n",
       "      <td>76.40</td>\n",
       "      <td>Cash</td>\n",
       "      <td>10:29</td>\n",
       "      <td>3/8/2019</td>\n",
       "      <td>80.2200</td>\n",
       "      <td>3.8200</td>\n",
       "      <td>5</td>\n",
       "      <td>15.28</td>\n",
       "      <td>Electronic accessories</td>\n",
       "      <td>Female</td>\n",
       "      <td>Normal</td>\n",
       "      <td>9.6</td>\n",
       "      <td>226-31-3081</td>\n",
       "      <td>C</td>\n",
       "      <td>Naypyitaw</td>\n",
       "    </tr>\n",
       "    <tr>\n",
       "      <th>2</th>\n",
       "      <td>631-41-3108</td>\n",
       "      <td>16.2155</td>\n",
       "      <td>4.761905</td>\n",
       "      <td>324.31</td>\n",
       "      <td>Credit card</td>\n",
       "      <td>13:23</td>\n",
       "      <td>3/3/2019</td>\n",
       "      <td>340.5255</td>\n",
       "      <td>16.2155</td>\n",
       "      <td>7</td>\n",
       "      <td>46.33</td>\n",
       "      <td>Home and lifestyle</td>\n",
       "      <td>Male</td>\n",
       "      <td>Normal</td>\n",
       "      <td>7.4</td>\n",
       "      <td>631-41-3108</td>\n",
       "      <td>A</td>\n",
       "      <td>Yangon</td>\n",
       "    </tr>\n",
       "  </tbody>\n",
       "</table>\n",
       "</div>"
      ],
      "text/plain": [
       "    invoice_id  gross_income  gross_margin_pct    cogs      payment   time  \\\n",
       "0  750-67-8428       26.1415          4.761905  522.83      Ewallet  13:08   \n",
       "1  226-31-3081        3.8200          4.761905   76.40         Cash  10:29   \n",
       "2  631-41-3108       16.2155          4.761905  324.31  Credit card  13:23   \n",
       "\n",
       "       date     total  tax_pct  quantity  unit_price            product_line  \\\n",
       "0  1/5/2019  548.9715  26.1415         7       74.69       Health and beauty   \n",
       "1  3/8/2019   80.2200   3.8200         5       15.28  Electronic accessories   \n",
       "2  3/3/2019  340.5255  16.2155         7       46.33      Home and lifestyle   \n",
       "\n",
       "   gender customer_type  rating   invoice_id branch       city  \n",
       "0  Female        Member     9.1  750-67-8428      A     Yangon  \n",
       "1  Female        Normal     9.6  226-31-3081      C  Naypyitaw  \n",
       "2    Male        Normal     7.4  631-41-3108      A     Yangon  "
      ]
     },
     "execution_count": 46,
     "metadata": {},
     "output_type": "execute_result"
    }
   ],
   "source": [
    "# Check the first three raws of the dataset\n",
    "total_sales.head(3)"
   ]
  },
  {
   "cell_type": "code",
   "execution_count": 47,
   "metadata": {
    "scrolled": false
   },
   "outputs": [
    {
     "data": {
      "text/plain": [
       "<seaborn.axisgrid.FacetGrid at 0x23f4afc7eb8>"
      ]
     },
     "execution_count": 47,
     "metadata": {},
     "output_type": "execute_result"
    },
    {
     "data": {
      "image/png": "[encoded data removed]",
      "text/plain": [
       "<Figure size 360x360 with 1 Axes>"
      ]
     },
     "metadata": {
      "needs_background": "light"
     },
     "output_type": "display_data"
    }
   ],
   "source": [
    "# Customer by gender\n",
    "sns.catplot(data = total_sales, x = \"gender\", kind = \"count\")\n",
    "plt.pie(data = total_sales, )"
   ]
  },
  {
   "cell_type": "code",
   "execution_count": 48,
   "metadata": {},
   "outputs": [
    {
     "data": {
      "text/plain": [
       "<seaborn.axisgrid.FacetGrid at 0x23f4b1f74a8>"
      ]
     },
     "execution_count": 48,
     "metadata": {},
     "output_type": "execute_result"
    },
    {
     "data": {
      "image/png": "[encoded data removed]",
      "text/plain": [
       "<Figure size 360x360 with 1 Axes>"
      ]
     },
     "metadata": {
      "needs_background": "light"
     },
     "output_type": "display_data"
    }
   ],
   "source": [
    "# Sales by customer type\n",
    "sns.catplot(data = total_sales, y = \"customer_type\", x = \"quantity\", kind = \"bar\")"
   ]
  },
  {
   "cell_type": "code",
   "execution_count": 56,
   "metadata": {},
   "outputs": [
    {
     "data": {
      "text/plain": [
       "<seaborn.axisgrid.FacetGrid at 0x23f4c31e2e8>"
      ]
     },
     "execution_count": 56,
     "metadata": {},
     "output_type": "execute_result"
    },
    {
     "data": {
      "image/png": "[encoded data removed]",
      "text/plain": [
       "<Figure size 506.5x360 with 1 Axes>"
      ]
     },
     "metadata": {
      "needs_background": "light"
     },
     "output_type": "display_data"
    }
   ],
   "source": [
    "# Product_line by gender\n",
    "sns.catplot(data = total_sales, x = \"gender\", hue = \"product_line\",kind = \"count\")"
   ]
  },
  {
   "cell_type": "code",
   "execution_count": 18,
   "metadata": {},
   "outputs": [
    {
     "data": {
      "text/plain": [
       "<seaborn.axisgrid.FacetGrid at 0x23f45401048>"
      ]
     },
     "execution_count": 18,
     "metadata": {},
     "output_type": "execute_result"
    },
    {
     "data": {
      "image/png": "[encoded data removed]",
      "text/plain": [
       "<Figure size 360x360 with 1 Axes>"
      ]
     },
     "metadata": {
      "needs_background": "light"
     },
     "output_type": "display_data"
    }
   ],
   "source": [
    "# Sales by branch\n",
    "sns.catplot(data = total_sales, x = \"branch\", y = \"quantity\", kind= \"bar\")"
   ]
  },
  {
   "cell_type": "code",
   "execution_count": null,
   "metadata": {},
   "outputs": [],
   "source": []
  }
 ],
 "metadata": {
  "kernelspec": {
   "display_name": "Python 3",
   "language": "python",
   "name": "python3"
  },
  "language_info": {
   "codemirror_mode": {
    "name": "ipython",
    "version": 3
   },
   "file_extension": ".py",
   "mimetype": "text/x-python",
   "name": "python",
   "nbconvert_exporter": "python",
   "pygments_lexer": "ipython3",
   "version": "3.6.8"
  }
 },
 "nbformat": 4,
 "nbformat_minor": 2
}
