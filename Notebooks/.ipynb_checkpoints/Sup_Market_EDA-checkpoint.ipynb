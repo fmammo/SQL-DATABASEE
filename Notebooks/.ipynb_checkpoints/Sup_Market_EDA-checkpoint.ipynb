{
 "cells": [
  {
   "cell_type": "markdown",
   "metadata": {},
   "source": [
    "#### Import necessary Libraries"
   ]
  },
  {
   "cell_type": "code",
   "execution_count": null,
   "metadata": {},
   "outputs": [],
   "source": [
    "import pandas as pd\n",
    "import numpy as np\n",
    "import matplotlib.pyplot as plt\n",
    "import seaborn as sns\n",
    "%matplotlib inline"
   ]
  },
  {
   "cell_type": "code",
   "execution_count": null,
   "metadata": {},
   "outputs": [],
   "source": [
    "# Load the dataset\n",
    "sales = pd.read_csv(\"sales.csv\")\n",
    "customer = pd.read_csv(\"customer.csv\")\n",
    "branch = pd.read_csv(\"branch.csv\")"
   ]
  },
  {
   "cell_type": "code",
   "execution_count": null,
   "metadata": {},
   "outputs": [],
   "source": [
    "# First lets concatenate the tables\n",
    "sales_table = pd.concat([sales,customer,branch], axis = 1)\n",
    "# Let's drop the \"Unknown\" columns\n",
    "total_sales = sales_table.drop(['Unnamed: 0', 'Unnamed: 0', 'Unnamed: 0'], axis = 1)"
   ]
  },
  {
   "cell_type": "code",
   "execution_count": null,
   "metadata": {},
   "outputs": [],
   "source": [
    "# Check the first three raws of the dataset\n",
    "total_sales.head(3)"
   ]
  },
  {
   "cell_type": "code",
   "execution_count": null,
   "metadata": {},
   "outputs": [],
   "source": [
    "# Customer by gender\n",
    "sns.catplot(data = total_sales, x = \"gender\", kind = \"count\")\n",
    "plt.pie(data = total_sales, )"
   ]
  },
  {
   "cell_type": "code",
   "execution_count": null,
   "metadata": {},
   "outputs": [],
   "source": [
    "# Sales by customer type\n",
    "sns.catplot(data = total_sales, y = \"customer_type\", x = \"quantity\", kind = \"bar\")"
   ]
  },
  {
   "cell_type": "code",
   "execution_count": null,
   "metadata": {},
   "outputs": [],
   "source": [
    "# Product_line by gender\n",
    "sns.catplot(data = total_sales, x = \"gender\", hue = \"product_line\",kind = \"count\")"
   ]
  },
  {
   "cell_type": "code",
   "execution_count": null,
   "metadata": {},
   "outputs": [],
   "source": [
    "# Sales by branch\n",
    "sns.catplot(data = total_sales, x = \"branch\", y = \"quantity\", kind= \"bar\")"
   ]
  }
 ],
 "metadata": {
  "kernelspec": {
   "display_name": "Python 3",
   "language": "python",
   "name": "python3"
  },
  "language_info": {
   "codemirror_mode": {
    "name": "ipython",
    "version": 3
   },
   "file_extension": ".py",
   "mimetype": "text/x-python",
   "name": "python",
   "nbconvert_exporter": "python",
   "pygments_lexer": "ipython3",
   "version": "3.6.8"
  }
 },
 "nbformat": 4,
 "nbformat_minor": 2
}
