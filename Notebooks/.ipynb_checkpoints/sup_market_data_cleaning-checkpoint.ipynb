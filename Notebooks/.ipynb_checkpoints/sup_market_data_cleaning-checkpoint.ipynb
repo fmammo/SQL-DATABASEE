{
 "cells": [
  {
   "cell_type": "markdown",
   "metadata": {},
   "source": [
    "#### Import important libraries"
   ]
  },
  {
   "cell_type": "code",
   "execution_count": null,
   "metadata": {},
   "outputs": [],
   "source": [
    "import pandas as pd\n",
    "import numpy as np"
   ]
  },
  {
   "cell_type": "code",
   "execution_count": null,
   "metadata": {},
   "outputs": [],
   "source": [
    "sup_data = pd.read_csv(\"supermarket_sales - Sheet1.csv\")\n",
    "# Check the first five raws of the dataframe\n",
    "sup_data.head()"
   ]
  },
  {
   "cell_type": "code",
   "execution_count": null,
   "metadata": {},
   "outputs": [],
   "source": [
    "# Check the columns information \n",
    "sup_data.info()"
   ]
  },
  {
   "cell_type": "code",
   "execution_count": null,
   "metadata": {},
   "outputs": [],
   "source": [
    "# Sales Table\n",
    "sales = sup_data[['Invoice ID','gross income','gross margin percentage','cogs','Payment','Time','Date','Total','Tax 5%','Quantity','Unit price','Product line']]\n",
    "# Check the first five raws of the dataframe\n",
    "sales.head()"
   ]
  },
  {
   "cell_type": "code",
   "execution_count": null,
   "metadata": {},
   "outputs": [],
   "source": [
    "# Make consistence the column names\n",
    "sales.columns = [['invoice_id','gross_income','gross_margin_pct','cogs','payment','time','date','total','tax_pct','quantity','unit_price','product_line']]\n",
    "sales.head()"
   ]
  },
  {
   "cell_type": "code",
   "execution_count": null,
   "metadata": {},
   "outputs": [],
   "source": [
    "# Branch table\n",
    "branch = sup_data[['Invoice ID','Branch','City']]\n",
    "# Corect the column names\n",
    "branch.columns = [['invoice_id','branch','city']]\n",
    "branch.head()"
   ]
  },
  {
   "cell_type": "code",
   "execution_count": null,
   "metadata": {},
   "outputs": [],
   "source": [
    "# Customer table\n",
    "customer = sup_data[['Gender','Customer type','Rating']]\n",
    "customer.columns = [['gender', 'customer_type','rating']]\n",
    "customer.head()"
   ]
  },
  {
   "cell_type": "code",
   "execution_count": null,
   "metadata": {},
   "outputs": [],
   "source": [
    "# Save the data to csv file\n",
    "sales.to_csv(\"sales.csv\")\n",
    "branch.to_csv(\"branch.csv\")\n",
    "customer.to_csv(\"customer.csv\")"
   ]
  }
 ],
 "metadata": {
  "kernelspec": {
   "display_name": "Python 3",
   "language": "python",
   "name": "python3"
  },
  "language_info": {
   "codemirror_mode": {
    "name": "ipython",
    "version": 3
   },
   "file_extension": ".py",
   "mimetype": "text/x-python",
   "name": "python",
   "nbconvert_exporter": "python",
   "pygments_lexer": "ipython3",
   "version": "3.6.8"
  }
 },
 "nbformat": 4,
 "nbformat_minor": 2
}
